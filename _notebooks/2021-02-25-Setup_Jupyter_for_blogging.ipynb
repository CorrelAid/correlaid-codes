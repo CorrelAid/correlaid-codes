{
 "cells": [
  {
   "cell_type": "markdown",
   "id": "precise-perfume",
   "metadata": {},
   "source": [
    "# Setup Jupyter for blogging\n",
    "> Create your environment for hardcore blogging\n",
    "\n",
    "- toc: true\n",
    "- branch: master\n",
    "- badges: true\n",
    "- comments: true\n",
    "- author: Francesco Gastaldello\n",
    "- categories: [first steps, R, jupyter]"
   ]
  },
  {
   "cell_type": "markdown",
   "id": "worthy-uncle",
   "metadata": {},
   "source": [
    "## Background info on Jupyter's intentions\n",
    "\n",
    "Jupyer and its usefulness with R have been covered in a previous blogpost [here](https://codes.correlaid.org/first%20steps/r/jupyter/2021/02/18/R_in_jupyter.html).\n",
    "Go back and have a quick look at what you are capable to do in Jupyter.\n",
    "\n",
    "This post will help you setup this framework on your local station and start creating your posts. For further details, please refer to the [main page of the projects](https://jupyter.org/install).\n",
    "\n",
    "In this post we are assuming that you, the reader, is starting from zero and have no Python installation (or literacy) on your compuater.\n",
    "\n",
    "There are many ways to set you toolkit up for hardcore blogging at CorrelAid. In here we will cover:\n",
    "\n",
    "*  JupyterLab vs Jupyter Notebook.\n",
    "*  How to setup Python.\n",
    "*  How to setup JupyterLab or Jupyter Notebook.\n",
    "\n",
    "Let's get started!"
   ]
  },
  {
   "cell_type": "markdown",
   "id": "under-geneva",
   "metadata": {},
   "source": [
    "## JupyterLab vs Jupyter Notebook\n",
    "\n",
    "If you are completely new to the Python world, you might have not heard of *JupyterLab* or *Jupyter Notebook*. That's alright, the bottom line is that both can be used to create your IPython notebooks (and therefore posts) for our blog!\n",
    "\n",
    "\n",
    "Both are web-based interface, although JupyterLab feels more like a complete IDE (like RStudio) while Jupyter Notebook are documents that combine live runnable code with narrative text (Markdown), equations (LaTeX), images, interactive visualizations and other rich output. Pick you poison and follow us to the next step."
   ]
  },
  {
   "cell_type": "markdown",
   "id": "rocky-movie",
   "metadata": {},
   "source": [
    "## How to setup Python\n",
    "\n",
    "Installing Python can be done in multiple ways depending on your operative system, but also on the choice of package management system that you prefer to use.\n",
    "In here we present `pip` and `conda`; they have different ways to be installed.\n",
    "\n",
    "### What is \"pip\"?\n",
    "`PIP` is an acronym that stands for \"PIP Installs Packages\" or \"Preferred Installer Program\". It's a command-line utility that allows you to install, reinstall, or uninstall PyPI packages with a simple and straightforward command: `pip`.\n",
    "\n",
    "### How to get \"pip\" on my computer?\n",
    "We reccomend to use Python 3.x versions, in this way `pip` will already be available. Here are the installation for [Windows](https://www.python.org/downloads/windows/), [Linux/UNIX](https://www.python.org/downloads/source/) and  [MacOS X](https://www.python.org/downloads/mac-osx/).\n",
    "\n",
    "### What is \"conda\"?\n",
    "Anaconda is a package manager, an environment manager, a Python/R data science distribution, and a collection of over 7,500+ open-source packages. Anaconda is free and easy to install, and it offers free community support.\n",
    "\n",
    "### How to get \"conda\" on my computer?\n",
    "This system is very broad and organic, please refer to the [installation page of the project](https://docs.anaconda.com/anaconda/install/) to choose between the full suite or the reduced one (*Miniconda*)"
   ]
  },
  {
   "cell_type": "markdown",
   "id": "narrow-runner",
   "metadata": {},
   "source": [
    "## How to setup JupyterLab or Jupyter Notebook\n",
    "\n",
    "After choosing the Python package manager and between the two methods to create your IPython notebooks, let's have a quick look on how to run the install.\n",
    "\n",
    "### Install Jupyter Notebook\n",
    "\n",
    "Install *Jupyter Notebook* via `pip`, you can run in console:<br>\n",
    "```\n",
    "pip install notebook\n",
    "```\n",
    "\n",
    "Or via `conda`:<br>\n",
    "```\n",
    "conda install -c conda-forge notebook\n",
    "```\n",
    "\n",
    "Run the following command at the Terminal (Mac/Linux) or Command Prompt (Windows) to open your notebooks:<br>\n",
    "```\n",
    "jupyter notebook\n",
    "```\n",
    "\n",
    "### Install JupyterLab\n",
    "\n",
    "Install *JupyterLab* via `pip`, you can run in console:<br>\n",
    "```\n",
    "pip install jupyterlab\n",
    "```\n",
    "\n",
    "Or via `conda`:<br>\n",
    "```\n",
    "conda install -c conda-forge jupyterlab\n",
    "```\n",
    "\n",
    "Run the following command at the Terminal (Mac/Linux) or Command Prompt (Windows) to open the web interface:<br>\n",
    "```\n",
    "jupyter-lab\n",
    "```"
   ]
  },
  {
   "cell_type": "markdown",
   "id": "plain-language",
   "metadata": {},
   "source": [
    "Please refer to the [project documentation](https://jupyter.org/documentation) for more information.<br>\n",
    "Happy blogging!"
   ]
  }
 ],
 "metadata": {
  "kernelspec": {
   "display_name": "R",
   "language": "R",
   "name": "ir"
  },
  "language_info": {
   "codemirror_mode": "r",
   "file_extension": ".r",
   "mimetype": "text/x-r-source",
   "name": "R",
   "pygments_lexer": "r",
   "version": "4.0.3"
  }
 },
 "nbformat": 4,
 "nbformat_minor": 5
}
